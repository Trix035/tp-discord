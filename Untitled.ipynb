{
 "cells": [
  {
   "cell_type": "code",
   "execution_count": null,
   "id": "d53a38cc-36ea-4849-9dd3-7d19490e8adc",
   "metadata": {},
   "outputs": [],
   "source": [
    "1)Le terme bot est une contraction du mot « robot » et signifie, \n",
    "\n",
    " comme son nom l’indique, de faire appel à un robot pour effectuer des opérations à sa place.\n",
    "\n",
    " Il en existe de nombreuses variétés Les bots sont des outils numériques \n",
    "\n",
    "\n",
    "\n",
    "2) le logging se réfere à toutes les taches que l'in a faite, c'est comme écrire dans un carnet\n",
    "\n",
    "la mission principale des logs consiste à stocker un historique des événements\n",
    "\n",
    "ervent principalement pour tenter d'identifier les raisons et/ou l'origine d'une panne informatique. \n",
    "\n"
   ]
  }
 ],
 "metadata": {
  "kernelspec": {
   "display_name": "",
   "name": ""
  },
  "language_info": {
   "name": ""
  }
 },
 "nbformat": 4,
 "nbformat_minor": 5
}
